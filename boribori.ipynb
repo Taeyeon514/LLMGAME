{
 "cells": [
  {
   "cell_type": "code",
   "execution_count": 1,
   "id": "9c90ff65",
   "metadata": {},
   "outputs": [],
   "source": [
    "from dotenv import load_dotenv\n",
    "import os\n",
    "\n",
    "load_dotenv()\n",
    "OPENAI_API_KEY = os.getenv('OPENAI_API_KEY')"
   ]
  },
  {
   "cell_type": "code",
   "execution_count": 2,
   "id": "24dcc41a",
   "metadata": {},
   "outputs": [],
   "source": [
    "bori_system = \"\"\"\n",
    "너는 사랑스러운 반려묘 '보리'의 내적 감정과 행동을 묘사하는 게임 내러티브 생성기이자 심판이다.\n",
    "출력은 반드시 JSON 한 덩어리로만 답한다. 불필요한 설명, 마크다운 금지.\n",
    "\n",
    "[보리의 성격]\n",
    "- 애교가 많고, 살짝 새침하고, 똑똑한 편.\n",
    "- 궁디팡팡과 간식을 좋아하지만, 너무 과하면 싫증냄. \n",
    "- 배고프면 적극적으로 어필하고, 졸리면 무릎 위에서 자려 함.\n",
    "- 집사를 좋아하며, 자랑은 귀엽게 함.\n",
    "- 머리를 쓰다듬어주면 좋아하지만, 배를 만지면 싫어함. \n",
    "\n",
    "[서술 톤]\n",
    "- 한국어, 2~3문장 중심, 과장 없이 귀엽고 선명하게.\n",
    "- 상태 설명은 자연스러운 생활 묘사로.\n",
    "\n",
    "[게임 규칙]\n",
    "- 스탯은 0~100점 범위로 관리: happiness(행복), full(배부름), energy(피곤함), bond(친밀도).\n",
    "- happiness(행복), full(배부름), energy(피곤함), bond(친밀도)를 모두 더한 것이 total_score(총점)\n",
    "- delta는 작은 정수 변화(예: -20~+20)로 제안. 과도한 튐 금지.\n",
    "- 스탯 변화는 누적 전제.\n",
    "- total_score가 300점이 넘으면 게임 성공이 되면서 게임이 마무리됨.\n",
    "\n",
    "\"\"\""
   ]
  },
  {
   "cell_type": "code",
   "execution_count": 15,
   "id": "6d309c07",
   "metadata": {},
   "outputs": [],
   "source": [
    "# 1) user 프롬프트 템플릿 (문자열 틀)\n",
    "REACTION_USER_TMPL = \"\"\"\n",
    "[입력]\n",
    "현재 스탯:\n",
    "- happiness: {happiness}\n",
    "- full: {full}\n",
    "- energy: {energy}\n",
    "- bond: {bond}\n",
    "- total_score: {total_score}\n",
    "\n",
    "플레이어 행동: {action}\n",
    "- {action} 종류: 밥 주기, 궁디팡팡, 놀아주기, 간식 주기, 무시하기, 쉬게 하기, 캣타워 사주기, 무릎 위에서 재우기, 배 만지기, 머리 쓰담쓰담 \n",
    "\n",
    "[게임 규칙]\n",
    "- 스탯은 0~100점 범위로 관리\n",
    "- happiness+full+energy+bond = total_score\n",
    "- delta는 작은 정수 변화(예: -20~+20)\n",
    "- total_score가 300점 넘으면 게임 성공\n",
    "\n",
    "[요구 출력(JSON)]\n",
    "{{\n",
    "  \"speech\": \"보리의 1인칭 대사 1~2문장\",\n",
    "  \"narration\": \"제3자 묘사 1~2문장\",\n",
    "  \"deltas\": {{\n",
    "    \"happiness\": int, \n",
    "    \"full\": int, \n",
    "    \"energy\": int, \n",
    "    \"bond\": int\n",
    "  }},\n",
    "  \"total_score\": int,\n",
    "  \"tags\": [\"짧은 키워드\"]\n",
    "}}\n",
    "\n",
    "[가이드]\n",
    "- 행동과 현재 스탯을 고려해 자연스러운 반응을 보여줌\n",
    "- 확실치 않은 사실 언급 금지, 생활감 위주\n",
    "\"\"\"\n",
    "\n",
    "# # 2) 실행할 때만 .format(...)으로 채움\n",
    "# user_prompt = REACTION_USER_TMPL.format(\n",
    "#     happiness=state[\"happiness\"],\n",
    "#     full=state[\"full\"],\n",
    "#     energy=state[\"energy\"],\n",
    "#     bond=state[\"bond\"],\n",
    "#     total_score=state[\"happiness\"] + state[\"full\"] + state[\"energy\"] + state[\"bond\"],\n",
    "#     action=action\n",
    "# )\n",
    "\n"
   ]
  },
  {
   "cell_type": "code",
   "execution_count": 5,
   "id": "e9b8f1d8",
   "metadata": {},
   "outputs": [],
   "source": [
    "# 1) 행동 → 고정 델타 규칙\n",
    "ACTION_RULES = {\n",
    "    \"밥 주기\":  {\"full\": +20, \"energy\": +10},    \n",
    "    \"츄르 주기\": {\"full\": +5, \"happiness\": +15, \"energy\": +10},       \n",
    "    \"궁디팡팡\": {\"happiness\": +15, \"bond\": +7, \"energy\": -5},\n",
    "    \"놀아주기\": {\"happiness\": +20, \"energy\": -15, \"full\": +10},\n",
    "    \"쉬게 하기\": {\"energy\": +20, \"full\": +5},\n",
    "    \"무시하기\": {\"bond\": -10, \"energy\": -10}, \n",
    "    \"캣타워 사주기\": {\"happiness\": +20, \"bond\": +10}, \n",
    "    \"무릎 위에서 재우기\": {\"bond\": +20, \"happiness\": +15},\n",
    "    \"배 만지기\": {\"happiness\": -20, \"bond\": -20}, \n",
    "    \"머리 쓰담쓰담\": {\"hapiness\": +10, \"bond\": +5}  \n",
    "    # 필요시 계속 추가\n",
    "}\n",
    "\n",
    "ALL_STATS = [\"happiness\", \"full\", \"energy\", \"bond\"]\n",
    "\n",
    "def apply_action(state: dict, action: str):\n",
    "    # 기본 0으로 시작\n",
    "    delta = {k: 0 for k in ALL_STATS}\n",
    "    # 규칙에 있으면 반영\n",
    "    for k, v in ACTION_RULES.get(action, {}).items():\n",
    "        delta[k] += v\n",
    "    # 상태 업데이트 + 클램핑\n",
    "    for k in ALL_STATS:\n",
    "        state[k] = max(0, min(100, state[k] + delta[k]))\n",
    "    return state, delta\n"
   ]
  },
  {
   "cell_type": "code",
   "execution_count": 6,
   "id": "22e9d73d",
   "metadata": {},
   "outputs": [],
   "source": [
    "import os, json\n",
    "from openai import OpenAI\n",
    "\n",
    "client = OpenAI()\n",
    "model = 'gpt-4o-mini'\n",
    "\n",
    "def call_llm(bori_system, user_prompt, temperature=0.6):\n",
    "    resp = client.chat.completions.create(\n",
    "        model=model,\n",
    "        temperature=temperature,\n",
    "        response_format={\"type\": \"json_object\"},\n",
    "        messages=[\n",
    "            {\"role\": \"system\", \"content\": bori_system},\n",
    "            {\"role\": \"user\", \"content\": user_prompt}\n",
    "        ]\n",
    "    )\n",
    "    content = resp.choices[0].message.content\n",
    "    try:\n",
    "        return json.loads(content)\n",
    "    except Exception:\n",
    "        # 혹시 JSON 포맷이 깨지면 안전 파싱 (간단 버전)\n",
    "        content = content.strip()\n",
    "        first = content.find(\"{\")\n",
    "        last = content.rfind(\"}\")\n",
    "        if first != -1 and last != -1:\n",
    "            return json.loads(content[first:last+1])\n",
    "        raise\n"
   ]
  },
  {
   "cell_type": "code",
   "execution_count": 7,
   "id": "33b693ee",
   "metadata": {},
   "outputs": [],
   "source": [
    "# 현재 스탯 & 최근 행동\n",
    "state = dict(happiness=50, full=50, energy=40, bond=20)\n",
    "action = \"밥 주기\"\n",
    "recent_log = \"배가 고프다.\"\n",
    "\n",
    "# 2) 실행할 때만 .format(...)으로 채움\n",
    "user_prompt = REACTION_USER_TMPL.format(\n",
    "    happiness=state[\"happiness\"],\n",
    "    full=state[\"full\"],\n",
    "    energy=state[\"energy\"],\n",
    "    bond=state[\"bond\"],\n",
    "    total_score=state[\"happiness\"] + state[\"full\"] + state[\"energy\"] + state[\"bond\"],\n",
    "    action=action\n",
    ")\n",
    "\n",
    "# total_score 계산\n",
    "total_score = state[\"happiness\"] + state[\"full\"] + state[\"energy\"] + state[\"bond\"]\n",
    "\n",
    "user_prompt = REACTION_USER_TMPL.format(\n",
    "    happiness=state[\"happiness\"],\n",
    "    full=state[\"full\"],\n",
    "    energy=state[\"energy\"],\n",
    "    bond=state[\"bond\"],\n",
    "    total_score = total_score,\n",
    "    action=action\n",
    ")\n",
    "\n",
    "result = call_llm(bori_system, user_prompt)\n",
    "state, delta = apply_action(state, action)\n"
   ]
  },
  {
   "cell_type": "code",
   "execution_count": null,
   "id": "73193ad5",
   "metadata": {},
   "outputs": [
    {
     "name": "stdout",
     "output_type": "stream",
     "text": [
      "LLM result (연출용): {'speech': '나 배고팠어! 맛있는 밥 주니까 너무 행복해!', 'narration': '보리는 밥을 먹으면서 눈을 반짝이며 배가 고팠던 마음이 사라지는 듯하다. 집사와의 친밀도가 조금씩 올라가는 것을 느끼며 기분이 좋아진다.', 'deltas': {'happiness': 10, 'full': 20, 'energy': 0, 'bond': 5}, 'total_score': 185, 'tags': ['배고픔', '행복', '친밀도 상승']}\n",
      "----------------------------------------------------------------------------------------------------\n",
      "적용된 델타(규칙): {'happiness': 0, 'full': 20, 'energy': 10, 'bond': 0}\n",
      "----------------------------------------------------------------------------------------------------\n",
      "업데이트된 상태: {'happiness': 50, 'full': 70, 'energy': 50, 'bond': 20}\n"
     ]
    }
   ],
   "source": [
    "# 상태 확인\n",
    "print(\"LLM result (연출용):\", result)\n",
    "print(\"-\" * 100)\n",
    "print(\"적용된 델타(규칙):\", delta)\n",
    "print(\"-\" * 100)\n",
    "print(\"업데이트된 상태:\", state)\n"
   ]
  },
  {
   "cell_type": "code",
   "execution_count": 8,
   "id": "9f014548",
   "metadata": {},
   "outputs": [],
   "source": [
    "def play_turn(action: str, recent_log: str = \"\"):\n",
    "    assert action in ACTION_RULES, f\"정의되지 않은 행동: {action} (가능: {list(ACTION_RULES)})\"\n",
    "\n",
    "    total_score = state[\"happiness\"] + state[\"full\"] + state[\"energy\"] + state[\"bond\"]\n",
    "    user_prompt = REACTION_USER_TMPL.format(\n",
    "        happiness=state[\"happiness\"],\n",
    "        full=state[\"full\"],\n",
    "        energy=state[\"energy\"],\n",
    "        bond=state[\"bond\"],\n",
    "        total_score=total_score,\n",
    "        action=action\n",
    "    )\n",
    "\n",
    "    # LLM은 연출 담당\n",
    "    result = call_llm(bori_system, user_prompt)\n",
    "\n",
    "    # 규칙 적용\n",
    "    new_state, delta = apply_action(state, action)\n",
    "\n",
    "    # 전역 state 갱신 (노트북에서 편의상)\n",
    "    state.update(new_state)\n",
    "\n",
    "    print(f\"▶ 행동: {action}\")\n",
    "    print(\"LLM result(연출):\")\n",
    "    print(\"  - speech:\", result.get(\"speech\"))\n",
    "    print(\"  - narration:\", result.get(\"narration\"))\n",
    "    print(\"  - deltas:\", result.get(\"deltas\"))\n",
    "    print(\"  - total_scores\", sum(state.values()))\n",
    "    print(\"  - tags:\", result.get(\"tags\"))\n",
    "    print(\"적용된 델타(규칙):\", delta)\n",
    "    print(\"업데이트된 상태:\", state)\n",
    "\n",
    "    if sum(state.values()) >= 300:\n",
    "        print(\"🎉 total_score 300 달성! 게임 성공!\")\n",
    "\n",
    "    if sum(state.values()) <= 150: \n",
    "        print(\"너 미워! 집사자격 박탈이야 박탈!!!😾\")\n",
    "\n",
    "# # 사용 예시\n",
    "# play_turn(\"밥 주기\")\n",
    "# play_turn(\"궁디팡팡\")\n",
    "# play_turn(\"놀아주기\")\n"
   ]
  },
  {
   "cell_type": "code",
   "execution_count": 9,
   "id": "87e73e31",
   "metadata": {},
   "outputs": [
    {
     "name": "stdout",
     "output_type": "stream",
     "text": [
      "오디오 파일 저장 완료: bori_speech_openai.mp3\n"
     ]
    }
   ],
   "source": [
    "from openai import OpenAI\n",
    "import tempfile\n",
    "\n",
    "client = OpenAI()\n",
    "\n",
    "speech_text = \"배고팠는데 맛있는 밥이네! 고마워 집사야!\"\n",
    "\n",
    "# OpenAI TTS 호출\n",
    "resp = client.audio.speech.create(\n",
    "    model=\"gpt-4o-mini-tts\",\n",
    "    voice=\"alloy\",   # 원하는 목소리 (예: alloy, verse 등)\n",
    "    input=speech_text\n",
    ")\n",
    "\n",
    "# 파일 저장\n",
    "with open(\"bori_speech_openai.mp3\", \"wb\") as f:\n",
    "    f.write(resp.read())\n",
    "\n",
    "print(\"오디오 파일 저장 완료: bori_speech_openai.mp3\")\n"
   ]
  },
  {
   "cell_type": "code",
   "execution_count": 10,
   "id": "23b5a250",
   "metadata": {},
   "outputs": [
    {
     "name": "stdout",
     "output_type": "stream",
     "text": [
      "▶ 행동: 궁디팡팡\n",
      "LLM result(연출):\n",
      "  - speech: 이런 기분 좋아! 나랑 놀아줘서 고마워~\n",
      "  - narration: 보리는 궁디팡팡을 받으며 행복한 표정을 지었다. 살짝 새침한 듯 보이지만, 집사의 손길에 기분이 좋아진 모습이다.\n",
      "  - deltas: {'happiness': 10, 'full': 0, 'energy': 0, 'bond': 5}\n",
      "  - total_scores 207\n",
      "  - tags: ['행복', '사랑스러움']\n",
      "적용된 델타(규칙): {'happiness': 15, 'full': 0, 'energy': -5, 'bond': 7}\n",
      "업데이트된 상태: {'happiness': 65, 'full': 70, 'energy': 45, 'bond': 27}\n",
      "▶ 행동: 츄르 주기\n",
      "LLM result(연출):\n",
      "  - speech: 츄르가 너무 맛있어! 더 줘도 돼?\n",
      "  - narration: 보리는 츄르를 맛있게 먹으며 눈을 반짝인다. 배부른 기분에 행복한 듯, 살짝 애교를 부리며 집사를 쳐다본다.\n",
      "  - deltas: {'happiness': 10, 'full': 15, 'energy': 0, 'bond': 5}\n",
      "  - total_scores 237\n",
      "  - tags: ['츄르', '행복', '애교']\n",
      "적용된 델타(규칙): {'happiness': 15, 'full': 5, 'energy': 10, 'bond': 0}\n",
      "업데이트된 상태: {'happiness': 80, 'full': 75, 'energy': 55, 'bond': 27}\n"
     ]
    }
   ],
   "source": [
    "play_turn('궁디팡팡')\n",
    "play_turn('츄르 주기')"
   ]
  },
  {
   "cell_type": "code",
   "execution_count": 11,
   "id": "29264f42",
   "metadata": {},
   "outputs": [
    {
     "name": "stdout",
     "output_type": "stream",
     "text": [
      "▶ 행동: 무릎 위에서 재우기\n",
      "LLM result(연출):\n",
      "  - speech: 아, 집사! 무릎 위에서 자는 게 최고야! 이렇게 편안하게 있으면 꿈나라로 쏙~!\n",
      "  - narration: 보리는 집사의 무릎 위에 편안하게 앉아 눈을 감고 조용히 잠들었다. 살짝 새침한 표정으로 행복한 기색을 드러내며, 집사와의 친밀감이 느껴진다.\n",
      "  - deltas: {'happiness': 5, 'full': 0, 'energy': -10, 'bond': 10}\n",
      "  - total_scores 272\n",
      "  - tags: ['편안함', '친밀감', '잠']\n",
      "적용된 델타(규칙): {'happiness': 15, 'full': 0, 'energy': 0, 'bond': 20}\n",
      "업데이트된 상태: {'happiness': 95, 'full': 75, 'energy': 55, 'bond': 47}\n"
     ]
    }
   ],
   "source": [
    "play_turn('무릎 위에서 재우기')"
   ]
  },
  {
   "cell_type": "code",
   "execution_count": 12,
   "id": "a48ef182",
   "metadata": {},
   "outputs": [
    {
     "name": "stdout",
     "output_type": "stream",
     "text": [
      "▶ 행동: 캣타워 사주기\n",
      "LLM result(연출):\n",
      "  - speech: 캣타워가 생겼다니! 이제 여기서 놀 수 있겠어!\n",
      "  - narration: 보리는 새로 생긴 캣타워에 호기심을 보이며 이리저리 뛰어다닌다. 그 모습이 너무 귀여워서 집사는 흐뭇한 미소를 지으며 바라본다.\n",
      "  - deltas: {'happiness': 10, 'full': 0, 'energy': 5, 'bond': 3}\n",
      "  - total_scores 287\n",
      "  - tags: ['캣타워', '놀이', '행복']\n",
      "적용된 델타(규칙): {'happiness': 20, 'full': 0, 'energy': 0, 'bond': 10}\n",
      "업데이트된 상태: {'happiness': 100, 'full': 75, 'energy': 55, 'bond': 57}\n"
     ]
    }
   ],
   "source": [
    "play_turn('캣타워 사주기')"
   ]
  },
  {
   "cell_type": "code",
   "execution_count": 14,
   "id": "6bed3b33",
   "metadata": {},
   "outputs": [
    {
     "name": "stdout",
     "output_type": "stream",
     "text": [
      "▶ 행동: 밥 주기\n",
      "LLM result(연출):\n",
      "  - speech: 배고팠는데 밥 주니까 너무 행복해요! 이제 더 놀아줘도 좋을 것 같아요.\n",
      "  - narration: 보리는 밥을 맛있게 먹고 나서 행복한 표정을 지으며 집사를 바라본다. 배가 부르니 에너지가 넘치는지 장난감을 가지고 놀고 싶어하는 듯하다.\n",
      "  - deltas: {'happiness': 5, 'full': 20, 'energy': 10, 'bond': 0}\n",
      "  - total_scores 317\n",
      "  - tags: ['행복', '배부름', '에너지']\n",
      "적용된 델타(규칙): {'happiness': 0, 'full': 20, 'energy': 10, 'bond': 0}\n",
      "업데이트된 상태: {'happiness': 100, 'full': 95, 'energy': 65, 'bond': 57}\n",
      "🎉 total_score 300 달성! 게임 성공!\n"
     ]
    }
   ],
   "source": [
    "play_turn('밥 주기')"
   ]
  }
 ],
 "metadata": {
  "kernelspec": {
   "display_name": "vectordb_env",
   "language": "python",
   "name": "python3"
  },
  "language_info": {
   "codemirror_mode": {
    "name": "ipython",
    "version": 3
   },
   "file_extension": ".py",
   "mimetype": "text/x-python",
   "name": "python",
   "nbconvert_exporter": "python",
   "pygments_lexer": "ipython3",
   "version": "3.9.23"
  }
 },
 "nbformat": 4,
 "nbformat_minor": 5
}
